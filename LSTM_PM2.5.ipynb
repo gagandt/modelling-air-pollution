{
  "nbformat": 4,
  "nbformat_minor": 0,
  "metadata": {
    "colab": {
      "name": "Untitled8.ipynb",
      "version": "0.3.2",
      "provenance": [],
      "collapsed_sections": []
    },
    "kernelspec": {
      "name": "python3",
      "display_name": "Python 3"
    }
  },
  "cells": [
    {
      "cell_type": "code",
      "metadata": {
        "id": "Xxf076RztkZa",
        "colab_type": "code",
        "colab": {}
      },
      "source": [
        "# from google.colab import files\n",
        "# uploaded = files.upload()"
      ],
      "execution_count": 0,
      "outputs": []
    },
    {
      "cell_type": "code",
      "metadata": {
        "id": "dFTxB3Pypb4v",
        "colab_type": "code",
        "outputId": "ab0391ea-22e0-49d8-c5c3-29adae7ac1c0",
        "colab": {
          "base_uri": "https://localhost:8080/",
          "height": 146
        }
      },
      "source": [
        "from pandas import read_csv\n",
        "from datetime import datetime\n",
        "\n",
        "def parse(x):\n",
        "\treturn datetime.strptime(x, '%Y %m %d %H')\n",
        "\n",
        "dataset = read_csv('./data/beijing.csv',  parse_dates = [['year', 'month', 'day', 'hour']], index_col=0, date_parser=parse)\n",
        "\n",
        "dataset.drop('No', axis=1, inplace=True)\n",
        "dataset.columns = ['pollution', 'dew', 'temp', 'press', 'wnd_dir', 'wnd_spd', 'snow', 'rain']\n",
        "dataset.index.name = 'date'\n",
        "dataset['pollution'].fillna(0, inplace=True)\n",
        "dataset = dataset[24:]\n",
        "print(dataset.head(5))\n",
        "\n",
        "dataset.to_csv('./data/pollution.csv')"
      ],
      "execution_count": 55,
      "outputs": [
        {
          "output_type": "stream",
          "text": [
            "                     pollution  dew  temp   press wnd_dir  wnd_spd  snow  rain\n",
            "date                                                                          \n",
            "2010-01-02 00:00:00      129.0  -16  -4.0  1020.0      SE     1.79     0     0\n",
            "2010-01-02 01:00:00      148.0  -15  -4.0  1020.0      SE     2.68     0     0\n",
            "2010-01-02 02:00:00      159.0  -11  -5.0  1021.0      SE     3.57     0     0\n",
            "2010-01-02 03:00:00      181.0   -7  -5.0  1022.0      SE     5.36     1     0\n",
            "2010-01-02 04:00:00      138.0   -7  -5.0  1022.0      SE     6.25     2     0\n"
          ],
          "name": "stdout"
        }
      ]
    },
    {
      "cell_type": "code",
      "metadata": {
        "id": "svGvSyeGrtsZ",
        "colab_type": "code",
        "colab": {}
      },
      "source": [
        "# from pandas import read_csv\n",
        "# from matplotlib import pyplot\n",
        "\n",
        "# dataset = read_csv('pollution.csv', header=0, index_col=0)\n",
        "# values = dataset.values\n",
        "# # specify columns to plot\n",
        "# groups = [0, 1, 2, 3, 5, 6, 7]\n",
        "# i = 1\n",
        "# # plot each column\n",
        "# pyplot.figure()\n",
        "# for group in groups:\n",
        "# \tpyplot.subplot(len(groups), 1, i)\n",
        "# \tpyplot.plot(values[:, group])\n",
        "# \tpyplot.title(dataset.columns[group], y=0.5, loc='right')\n",
        "# \ti += 1\n",
        "# pyplot.show()"
      ],
      "execution_count": 0,
      "outputs": []
    },
    {
      "cell_type": "code",
      "metadata": {
        "id": "ccuaWFsXWYMK",
        "colab_type": "code",
        "colab": {}
      },
      "source": [
        "# from pandas import DataFrame\n",
        "import pandas\n",
        "\n",
        "# convert series to supervised learning\n",
        "def series_to_supervised(data, n_in=1, n_out=1, dropnan=True):\n",
        "\tn_vars = 1 if type(data) is list else data.shape[1]\n",
        "\tdf = DataFrame(data)\n",
        "\tcols, names = list(), list()\n",
        "\t# input sequence (t-n, ... t-1)\n",
        "\tfor i in range(n_in, 0, -1):\n",
        "\t\tcols.append(df.shift(i))\n",
        "\t\tnames += [('var%d(t-%d)' % (j+1, i)) for j in range(n_vars)]\n",
        "\t# forecast sequence (t, t+1, ... t+n)\n",
        "\tfor i in range(0, n_out):\n",
        "\t\tcols.append(df.shift(-i))\n",
        "\t\tif i == 0:\n",
        "\t\t\tnames += [('var%d(t)' % (j+1)) for j in range(n_vars)]\n",
        "\t\telse:\n",
        "\t\t\tnames += [('var%d(t+%d)' % (j+1, i)) for j in range(n_vars)]\n",
        "\t# put it all together\n",
        "\tagg = pandas.concat(cols, axis=1)\n",
        "\tagg.columns = names\n",
        "\t# drop rows with NaN values\n",
        "\tif dropnan:\n",
        "\t\tagg.dropna(inplace=True)\n",
        "\treturn agg"
      ],
      "execution_count": 0,
      "outputs": []
    },
    {
      "cell_type": "code",
      "metadata": {
        "id": "-B4yxJ8PhcQD",
        "colab_type": "code",
        "colab": {
          "base_uri": "https://localhost:8080/",
          "height": 164
        },
        "outputId": "fac05f4e-d475-48a2-c0f7-718ea328810e"
      },
      "source": [
        "from sklearn.preprocessing import LabelEncoder, MinMaxScaler\n",
        "\n",
        "dataset = read_csv('pollution.csv', header=0, index_col=0)\n",
        "values = dataset.values\n",
        "\n",
        "encoder = LabelEncoder()\n",
        "values[:,4] = encoder.fit_transform(values[:,4])\n",
        "\n",
        "values = values.astype('float32')\n",
        "scaler = MinMaxScaler(feature_range=(0, 1))\n",
        "scaled = scaler.fit_transform(values)\n",
        "\n",
        "reframed = series_to_supervised(scaled, 1, 1)\n",
        "\n",
        "reframed.drop(reframed.columns[[9,10,11,12,13,14,15]], axis=1, inplace=True)\n",
        "print(reframed.head())"
      ],
      "execution_count": 58,
      "outputs": [
        {
          "output_type": "stream",
          "text": [
            "   var1(t-1)  var2(t-1)  var3(t-1)  ...  var7(t-1)  var8(t-1)   var1(t)\n",
            "1   0.129779   0.352941   0.245902  ...   0.000000        0.0  0.148893\n",
            "2   0.148893   0.367647   0.245902  ...   0.000000        0.0  0.159960\n",
            "3   0.159960   0.426471   0.229508  ...   0.000000        0.0  0.182093\n",
            "4   0.182093   0.485294   0.229508  ...   0.037037        0.0  0.138833\n",
            "5   0.138833   0.485294   0.229508  ...   0.074074        0.0  0.109658\n",
            "\n",
            "[5 rows x 9 columns]\n"
          ],
          "name": "stdout"
        }
      ]
    },
    {
      "cell_type": "code",
      "metadata": {
        "id": "fOcDLW3bjwGl",
        "colab_type": "code",
        "colab": {
          "base_uri": "https://localhost:8080/",
          "height": 54
        },
        "outputId": "0a12cc38-1198-43a9-80cd-7981e2c6d290"
      },
      "source": [
        "# split into train and test sets\n",
        "values = reframed.values\n",
        "n_train_hours = 365 * 24 * 4\n",
        "train = values[:n_train_hours, :]\n",
        "test = values[n_train_hours:, :]\n",
        "\n",
        "print(train.shape)\n",
        "# split into input and outputs\n",
        "train_X, train_y = train[:, :-1], train[:, -1]\n",
        "test_X, test_y = test[:, :-1], test[:, -1]\n",
        "\n",
        "# reshape input to be 3D [samples, timesteps, features]\n",
        "train_X = train_X.reshape((train_X.shape[0], 1, train_X.shape[1]))\n",
        "test_X = test_X.reshape((test_X.shape[0], 1, test_X.shape[1]))\n",
        "\n",
        "print(train_X.shape, train_y.shape, test_X.shape, test_y.shape)"
      ],
      "execution_count": 59,
      "outputs": [
        {
          "output_type": "stream",
          "text": [
            "(35040, 9)\n",
            "(35040, 1, 8) (35040,) (8759, 1, 8) (8759,)\n"
          ],
          "name": "stdout"
        }
      ]
    },
    {
      "cell_type": "code",
      "metadata": {
        "id": "08YCnFUpk653",
        "colab_type": "code",
        "colab": {
          "base_uri": "https://localhost:8080/",
          "height": 1000
        },
        "outputId": "6e5bffe9-ab5c-47e4-838d-5acadd47dcfd"
      },
      "source": [
        "from keras.models import Sequential\n",
        "from keras.layers import Dense\n",
        "from keras.layers import LSTM\n",
        "\n",
        "# Network\n",
        "model = Sequential()\n",
        "model.add(LSTM(50, input_shape=(train_X.shape[1], train_X.shape[2])))\n",
        "model.add(Dense(1))\n",
        "model.compile(loss='mae', optimizer='adam')\n",
        "\n",
        "# fit network\n",
        "history = model.fit(train_X, train_y, epochs=50, batch_size=72, validation_data=(test_X, test_y), verbose=2, shuffle=False)"
      ],
      "execution_count": 60,
      "outputs": [
        {
          "output_type": "stream",
          "text": [
            "Train on 35040 samples, validate on 8759 samples\n",
            "Epoch 1/50\n",
            " - 3s - loss: 0.0345 - val_loss: 0.0343\n",
            "Epoch 2/50\n",
            " - 1s - loss: 0.0143 - val_loss: 0.0143\n",
            "Epoch 3/50\n",
            " - 1s - loss: 0.0140 - val_loss: 0.0134\n",
            "Epoch 4/50\n",
            " - 1s - loss: 0.0140 - val_loss: 0.0131\n",
            "Epoch 5/50\n",
            " - 1s - loss: 0.0139 - val_loss: 0.0132\n",
            "Epoch 6/50\n",
            " - 1s - loss: 0.0139 - val_loss: 0.0132\n",
            "Epoch 7/50\n",
            " - 1s - loss: 0.0139 - val_loss: 0.0136\n",
            "Epoch 8/50\n",
            " - 1s - loss: 0.0139 - val_loss: 0.0138\n",
            "Epoch 9/50\n",
            " - 1s - loss: 0.0139 - val_loss: 0.0137\n",
            "Epoch 10/50\n",
            " - 1s - loss: 0.0139 - val_loss: 0.0137\n",
            "Epoch 11/50\n",
            " - 1s - loss: 0.0139 - val_loss: 0.0137\n",
            "Epoch 12/50\n",
            " - 1s - loss: 0.0139 - val_loss: 0.0137\n",
            "Epoch 13/50\n",
            " - 1s - loss: 0.0138 - val_loss: 0.0138\n",
            "Epoch 14/50\n",
            " - 1s - loss: 0.0138 - val_loss: 0.0136\n",
            "Epoch 15/50\n",
            " - 1s - loss: 0.0138 - val_loss: 0.0138\n",
            "Epoch 16/50\n",
            " - 1s - loss: 0.0138 - val_loss: 0.0140\n",
            "Epoch 17/50\n",
            " - 1s - loss: 0.0138 - val_loss: 0.0138\n",
            "Epoch 18/50\n",
            " - 1s - loss: 0.0138 - val_loss: 0.0139\n",
            "Epoch 19/50\n",
            " - 1s - loss: 0.0138 - val_loss: 0.0137\n",
            "Epoch 20/50\n",
            " - 1s - loss: 0.0138 - val_loss: 0.0137\n",
            "Epoch 21/50\n",
            " - 1s - loss: 0.0138 - val_loss: 0.0140\n",
            "Epoch 22/50\n",
            " - 1s - loss: 0.0138 - val_loss: 0.0136\n",
            "Epoch 23/50\n",
            " - 1s - loss: 0.0138 - val_loss: 0.0138\n",
            "Epoch 24/50\n",
            " - 1s - loss: 0.0138 - val_loss: 0.0140\n",
            "Epoch 25/50\n",
            " - 1s - loss: 0.0137 - val_loss: 0.0141\n",
            "Epoch 26/50\n",
            " - 1s - loss: 0.0137 - val_loss: 0.0144\n",
            "Epoch 27/50\n",
            " - 1s - loss: 0.0137 - val_loss: 0.0138\n",
            "Epoch 28/50\n",
            " - 1s - loss: 0.0137 - val_loss: 0.0140\n",
            "Epoch 29/50\n",
            " - 1s - loss: 0.0137 - val_loss: 0.0144\n",
            "Epoch 30/50\n",
            " - 1s - loss: 0.0137 - val_loss: 0.0153\n",
            "Epoch 31/50\n",
            " - 1s - loss: 0.0137 - val_loss: 0.0153\n",
            "Epoch 32/50\n",
            " - 1s - loss: 0.0137 - val_loss: 0.0141\n",
            "Epoch 33/50\n",
            " - 1s - loss: 0.0137 - val_loss: 0.0146\n",
            "Epoch 34/50\n",
            " - 1s - loss: 0.0137 - val_loss: 0.0150\n",
            "Epoch 35/50\n",
            " - 1s - loss: 0.0137 - val_loss: 0.0153\n",
            "Epoch 36/50\n",
            " - 1s - loss: 0.0137 - val_loss: 0.0153\n",
            "Epoch 37/50\n",
            " - 1s - loss: 0.0137 - val_loss: 0.0152\n",
            "Epoch 38/50\n",
            " - 1s - loss: 0.0137 - val_loss: 0.0150\n",
            "Epoch 39/50\n",
            " - 1s - loss: 0.0138 - val_loss: 0.0151\n",
            "Epoch 40/50\n",
            " - 1s - loss: 0.0137 - val_loss: 0.0145\n",
            "Epoch 41/50\n",
            " - 1s - loss: 0.0137 - val_loss: 0.0144\n",
            "Epoch 42/50\n",
            " - 1s - loss: 0.0137 - val_loss: 0.0144\n",
            "Epoch 43/50\n",
            " - 1s - loss: 0.0137 - val_loss: 0.0143\n",
            "Epoch 44/50\n",
            " - 1s - loss: 0.0137 - val_loss: 0.0144\n",
            "Epoch 45/50\n",
            " - 1s - loss: 0.0137 - val_loss: 0.0143\n",
            "Epoch 46/50\n",
            " - 1s - loss: 0.0136 - val_loss: 0.0140\n",
            "Epoch 47/50\n",
            " - 1s - loss: 0.0136 - val_loss: 0.0141\n",
            "Epoch 48/50\n",
            " - 1s - loss: 0.0136 - val_loss: 0.0139\n",
            "Epoch 49/50\n",
            " - 1s - loss: 0.0136 - val_loss: 0.0142\n",
            "Epoch 50/50\n",
            " - 1s - loss: 0.0136 - val_loss: 0.0145\n"
          ],
          "name": "stdout"
        }
      ]
    },
    {
      "cell_type": "code",
      "metadata": {
        "id": "GE7w29rsl4vo",
        "colab_type": "code",
        "colab": {
          "base_uri": "https://localhost:8080/",
          "height": 269
        },
        "outputId": "d112488a-a66d-451a-a1f8-9c3d738ce360"
      },
      "source": [
        "# plot history\n",
        "from matplotlib import pyplot\n",
        "\n",
        "pyplot.plot(history.history['loss'], label='train')\n",
        "pyplot.plot(history.history['val_loss'], label='test')\n",
        "pyplot.legend()\n",
        "pyplot.show()"
      ],
      "execution_count": 61,
      "outputs": [
        {
          "output_type": "display_data",
          "data": {
            "image/png": "[encoded data removed]",
            "text/plain": [
              "<Figure size 432x288 with 1 Axes>"
            ]
          },
          "metadata": {
            "tags": []
          }
        }
      ]
    },
    {
      "cell_type": "code",
      "metadata": {
        "id": "GiMh7eD5ld5t",
        "colab_type": "code",
        "colab": {
          "base_uri": "https://localhost:8080/",
          "height": 54
        },
        "outputId": "457077ac-5dbd-4535-8beb-85741b3524d3"
      },
      "source": [
        "from math import sqrt\n",
        "from numpy import concatenate\n",
        "from sklearn.preprocessing import MinMaxScaler\n",
        "from sklearn.preprocessing import LabelEncoder\n",
        "from sklearn.metrics import mean_squared_error\n",
        "\n",
        "# make a prediction\n",
        "print(test_X.shape)\n",
        "# test_X = test_X.reshape((test_X.shape[0], 1, test_X.shape[1]))\n",
        "yhat = model.predict(test_X)\n",
        "test_X = test_X.reshape((test_X.shape[0], test_X.shape[2]))\n",
        "# invert scaling for forecast\n",
        "inv_yhat = concatenate((yhat, test_X[:, 1:]), axis=1)\n",
        "inv_yhat = scaler.inverse_transform(inv_yhat)\n",
        "inv_yhat = inv_yhat[:,0]\n",
        "# invert scaling for actual\n",
        "test_y = test_y.reshape((len(test_y), 1))\n",
        "inv_y = concatenate((test_y, test_X[:, 1:]), axis=1)\n",
        "inv_y = scaler.inverse_transform(inv_y)\n",
        "inv_y = inv_y[:,0]\n",
        "# calculate RMSE\n",
        "rmse = sqrt(mean_squared_error(inv_y, inv_yhat))\n",
        "print('Test RMSE: %.3f' % rmse)"
      ],
      "execution_count": 62,
      "outputs": [
        {
          "output_type": "stream",
          "text": [
            "(8759, 1, 8)\n",
            "Test RMSE: 25.943\n"
          ],
          "name": "stdout"
        }
      ]
    }
  ]
}
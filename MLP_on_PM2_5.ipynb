{
  "nbformat": 4,
  "nbformat_minor": 0,
  "metadata": {
    "colab": {
      "name": "MLP on PM2.5",
      "version": "0.3.2",
      "provenance": [],
      "collapsed_sections": []
    },
    "kernelspec": {
      "name": "python3",
      "display_name": "Python 3"
    }
  },
  "cells": [
    {
      "cell_type": "code",
      "metadata": {
        "colab_type": "code",
        "id": "lH4xJlmnuM7O",
        "colab": {}
      },
      "source": [
        "# from google.colab import files\n",
        "# uploaded = files.upload()"
      ],
      "execution_count": 0,
      "outputs": []
    },
    {
      "cell_type": "code",
      "metadata": {
        "id": "ccuaWFsXWYMK",
        "colab_type": "code",
        "colab": {}
      },
      "source": [
        "from pandas import DataFrame\n",
        "import pandas\n",
        "\n",
        "# convert series to supervised learning\n",
        "def series_to_supervised(data, n_in=1, n_out=1, dropnan=True):\n",
        "\tn_vars = 1 if type(data) is list else data.shape[1]\n",
        "\tdf = DataFrame(data)\n",
        "\tcols, names = list(), list()\n",
        "\t# input sequence (t-n, ... t-1)\n",
        "\tfor i in range(n_in, 0, -1):\n",
        "\t\tcols.append(df.shift(i))\n",
        "\t\tnames += [('var%d(t-%d)' % (j+1, i)) for j in range(n_vars)]\n",
        "\t# forecast sequence (t, t+1, ... t+n)\n",
        "\tfor i in range(0, n_out):\n",
        "\t\tcols.append(df.shift(-i))\n",
        "\t\tif i == 0:\n",
        "\t\t\tnames += [('var%d(t)' % (j+1)) for j in range(n_vars)]\n",
        "\t\telse:\n",
        "\t\t\tnames += [('var%d(t+%d)' % (j+1, i)) for j in range(n_vars)]\n",
        "\t# put it all together\n",
        "\tagg = pandas.concat(cols, axis=1)\n",
        "\tagg.columns = names\n",
        "\t# drop rows with NaN values\n",
        "\tif dropnan:\n",
        "\t\tagg.dropna(inplace=True)\n",
        "\treturn agg"
      ],
      "execution_count": 0,
      "outputs": []
    },
    {
      "cell_type": "code",
      "metadata": {
        "id": "fOcDLW3bjwGl",
        "colab_type": "code",
        "outputId": "ecbe53cc-1d9c-46a9-9fe0-f4d1c3b51295",
        "colab": {
          "base_uri": "https://localhost:8080/",
          "height": 54
        }
      },
      "source": [
        "from pandas import read_csv\n",
        "from sklearn.preprocessing import LabelEncoder, MinMaxScaler\n",
        "\n",
        "n_step = 3\n",
        "\n",
        "dataset = read_csv('pm2.5.csv', header=0, index_col=0)\n",
        "#print(dataset)\n",
        "dataset = series_to_supervised(dataset, n_step, 1)\n",
        "values = dataset.values\n",
        "#print(values)\n",
        "\n",
        "\n",
        "n_train_hours = 365 * 24 * 4\n",
        "train = values[:n_train_hours, :]\n",
        "test = values[n_train_hours:, :]\n",
        "\n",
        "print(train.shape)\n",
        "# split into input and outputs\n",
        "train_X, train_y = train[:, :-1], train[:, -1]\n",
        "test_X, test_y = test[:, :-1], test[:, -1]\n",
        "\n",
        "# reshape input to be 3D [samples, timesteps, features]\n",
        "train_X = train_X.reshape((train_X.shape[0], 3))\n",
        "test_X = test_X.reshape((test_X.shape[0], 3))\n",
        "\n",
        "print(train_X.shape, train_y.shape, test_X.shape, test_y.shape)"
      ],
      "execution_count": 65,
      "outputs": [
        {
          "output_type": "stream",
          "text": [
            "(35040, 4)\n",
            "(35040, 3) (35040,) (8756, 3) (8756,)\n"
          ],
          "name": "stdout"
        }
      ]
    },
    {
      "cell_type": "code",
      "metadata": {
        "id": "08YCnFUpk653",
        "colab_type": "code",
        "outputId": "ba3f85f2-1238-4d74-9fe5-f55fc5c54933",
        "colab": {
          "base_uri": "https://localhost:8080/",
          "height": 1000
        }
      },
      "source": [
        "from keras.models import Sequential\n",
        "from keras.layers import Dense\n",
        "from keras.layers import LSTM\n",
        "\n",
        "# Network\n",
        "model = Sequential()\n",
        "train\n",
        "\n",
        "model.add(Dense(100, activation='relu', input_dim=n_step))\n",
        "#model.add(LSTM(100, input_shape=(train_X.shape[1], 1)))\n",
        "\n",
        "model.add(Dense(1))\n",
        "model.compile(loss='mae', optimizer='adam')\n",
        "\n",
        "# fit network\n",
        "history = model.fit(train_X, train_y, epochs=50, batch_size=72, validation_data=(test_X, test_y), verbose=2, shuffle=False)"
      ],
      "execution_count": 66,
      "outputs": [
        {
          "output_type": "stream",
          "text": [
            "Train on 35040 samples, validate on 8756 samples\n",
            "Epoch 1/50\n",
            " - 1s - loss: 0.0171 - val_loss: 0.0125\n",
            "Epoch 2/50\n",
            " - 1s - loss: 0.0137 - val_loss: 0.0121\n",
            "Epoch 3/50\n",
            " - 1s - loss: 0.0136 - val_loss: 0.0120\n",
            "Epoch 4/50\n",
            " - 1s - loss: 0.0135 - val_loss: 0.0120\n",
            "Epoch 5/50\n",
            " - 1s - loss: 0.0136 - val_loss: 0.0120\n",
            "Epoch 6/50\n",
            " - 1s - loss: 0.0134 - val_loss: 0.0120\n",
            "Epoch 7/50\n",
            " - 1s - loss: 0.0134 - val_loss: 0.0120\n",
            "Epoch 8/50\n",
            " - 1s - loss: 0.0135 - val_loss: 0.0119\n",
            "Epoch 9/50\n",
            " - 1s - loss: 0.0134 - val_loss: 0.0120\n",
            "Epoch 10/50\n",
            " - 1s - loss: 0.0134 - val_loss: 0.0120\n",
            "Epoch 11/50\n",
            " - 1s - loss: 0.0134 - val_loss: 0.0120\n",
            "Epoch 12/50\n",
            " - 1s - loss: 0.0133 - val_loss: 0.0120\n",
            "Epoch 13/50\n",
            " - 1s - loss: 0.0133 - val_loss: 0.0120\n",
            "Epoch 14/50\n",
            " - 1s - loss: 0.0134 - val_loss: 0.0120\n",
            "Epoch 15/50\n",
            " - 1s - loss: 0.0133 - val_loss: 0.0120\n",
            "Epoch 16/50\n",
            " - 1s - loss: 0.0134 - val_loss: 0.0120\n",
            "Epoch 17/50\n",
            " - 1s - loss: 0.0134 - val_loss: 0.0120\n",
            "Epoch 18/50\n",
            " - 1s - loss: 0.0133 - val_loss: 0.0120\n",
            "Epoch 19/50\n",
            " - 1s - loss: 0.0133 - val_loss: 0.0120\n",
            "Epoch 20/50\n",
            " - 1s - loss: 0.0133 - val_loss: 0.0120\n",
            "Epoch 21/50\n",
            " - 1s - loss: 0.0134 - val_loss: 0.0120\n",
            "Epoch 22/50\n",
            " - 1s - loss: 0.0133 - val_loss: 0.0119\n",
            "Epoch 23/50\n",
            " - 1s - loss: 0.0133 - val_loss: 0.0120\n",
            "Epoch 24/50\n",
            " - 1s - loss: 0.0133 - val_loss: 0.0120\n",
            "Epoch 25/50\n",
            " - 1s - loss: 0.0133 - val_loss: 0.0120\n",
            "Epoch 26/50\n",
            " - 1s - loss: 0.0133 - val_loss: 0.0120\n",
            "Epoch 27/50\n",
            " - 1s - loss: 0.0132 - val_loss: 0.0120\n",
            "Epoch 28/50\n",
            " - 1s - loss: 0.0133 - val_loss: 0.0120\n",
            "Epoch 29/50\n",
            " - 1s - loss: 0.0133 - val_loss: 0.0120\n",
            "Epoch 30/50\n",
            " - 1s - loss: 0.0132 - val_loss: 0.0120\n",
            "Epoch 31/50\n",
            " - 1s - loss: 0.0133 - val_loss: 0.0120\n",
            "Epoch 32/50\n",
            " - 1s - loss: 0.0132 - val_loss: 0.0120\n",
            "Epoch 33/50\n",
            " - 1s - loss: 0.0132 - val_loss: 0.0119\n",
            "Epoch 34/50\n",
            " - 1s - loss: 0.0132 - val_loss: 0.0120\n",
            "Epoch 35/50\n",
            " - 1s - loss: 0.0132 - val_loss: 0.0120\n",
            "Epoch 36/50\n",
            " - 1s - loss: 0.0132 - val_loss: 0.0120\n",
            "Epoch 37/50\n",
            " - 1s - loss: 0.0132 - val_loss: 0.0119\n",
            "Epoch 38/50\n",
            " - 1s - loss: 0.0132 - val_loss: 0.0120\n",
            "Epoch 39/50\n",
            " - 1s - loss: 0.0132 - val_loss: 0.0119\n",
            "Epoch 40/50\n",
            " - 1s - loss: 0.0132 - val_loss: 0.0119\n",
            "Epoch 41/50\n",
            " - 1s - loss: 0.0132 - val_loss: 0.0120\n",
            "Epoch 42/50\n",
            " - 1s - loss: 0.0132 - val_loss: 0.0121\n",
            "Epoch 43/50\n",
            " - 1s - loss: 0.0132 - val_loss: 0.0120\n",
            "Epoch 44/50\n",
            " - 1s - loss: 0.0131 - val_loss: 0.0120\n",
            "Epoch 45/50\n",
            " - 1s - loss: 0.0132 - val_loss: 0.0121\n",
            "Epoch 46/50\n",
            " - 1s - loss: 0.0131 - val_loss: 0.0120\n",
            "Epoch 47/50\n",
            " - 1s - loss: 0.0131 - val_loss: 0.0120\n",
            "Epoch 48/50\n",
            " - 1s - loss: 0.0132 - val_loss: 0.0120\n",
            "Epoch 49/50\n",
            " - 1s - loss: 0.0131 - val_loss: 0.0120\n",
            "Epoch 50/50\n",
            " - 1s - loss: 0.0131 - val_loss: 0.0120\n"
          ],
          "name": "stdout"
        }
      ]
    },
    {
      "cell_type": "code",
      "metadata": {
        "id": "GE7w29rsl4vo",
        "colab_type": "code",
        "outputId": "99af9edb-c9eb-477c-fe2a-c4f1ab00c6db",
        "colab": {
          "base_uri": "https://localhost:8080/",
          "height": 269
        }
      },
      "source": [
        "# plot history\n",
        "from matplotlib import pyplot\n",
        "\n",
        "pyplot.plot(history.history['loss'], label='train')\n",
        "pyplot.plot(history.history['val_loss'], label='test')\n",
        "pyplot.legend()\n",
        "pyplot.show()"
      ],
      "execution_count": 67,
      "outputs": [
        {
          "output_type": "display_data",
          "data": {
            "image/png": "[encoded data removed]",
            "text/plain": [
              "<Figure size 432x288 with 1 Axes>"
            ]
          },
          "metadata": {
            "tags": []
          }
        }
      ]
    },
    {
      "cell_type": "code",
      "metadata": {
        "id": "GiMh7eD5ld5t",
        "colab_type": "code",
        "outputId": "cc77c5cd-8563-4ee3-cfcc-47391ea81ce5",
        "colab": {
          "base_uri": "https://localhost:8080/",
          "height": 54
        }
      },
      "source": [
        "from math import sqrt\n",
        "from numpy import concatenate\n",
        "#from numpy import scaler\n",
        "from sklearn.preprocessing import LabelEncoder, MinMaxScaler\n",
        "from sklearn.preprocessing import StandardScaler\n",
        "from sklearn.preprocessing import MinMaxScaler\n",
        "from sklearn.preprocessing import LabelEncoder\n",
        "from sklearn.metrics import mean_squared_error\n",
        "\n",
        "# make a prediction\n",
        "print(test_X.shape)\n",
        "# test_X = test_X.reshape((test_X.shape[0], 1, test_X.shape[1]))\n",
        "yhat = model.predict(test_X)\n",
        "test_X = test_X.reshape((test_X.shape[0], test_X.shape[1]))\n",
        "# invert scaling for forecast\n",
        "scaler = StandardScaler()\n",
        "scaler.fit(test_X)\n",
        "inv_yhat = concatenate((yhat, test_X[:, 1:]), axis=1)\n",
        "inv_yhat = scaler.inverse_transform(inv_yhat)\n",
        "inv_yhat = inv_yhat[:,0]\n",
        "# invert scaling for actual\n",
        "test_y = test_y.reshape((len(test_y), 1))\n",
        "inv_y = concatenate((test_y, test_X[:, 1:]), axis=1)\n",
        "inv_y = scaler.inverse_transform(inv_y)\n",
        "inv_y = inv_y[:,0]\n",
        "# calculate RMSE\n",
        "rmse = sqrt(mean_squared_error(inv_y, inv_yhat))\n",
        "print(rmse)\n",
        "\n",
        "# print(test_y)\n",
        "# print(yhat)"
      ],
      "execution_count": 68,
      "outputs": [
        {
          "output_type": "stream",
          "text": [
            "(8756, 3)\n",
            "0.002249883536118255\n"
          ],
          "name": "stdout"
        }
      ]
    },
    {
      "cell_type": "code",
      "metadata": {
        "id": "QGeCfx1fouYB",
        "colab_type": "code",
        "colab": {
          "base_uri": "https://localhost:8080/",
          "height": 35
        },
        "outputId": "4c2203c4-3282-46d7-c7b2-01f68f64730a"
      },
      "source": [
        "yhat = model.predict(test_X)\n",
        "# print(test_y)\n",
        "# print(yhat)\n",
        "\n",
        "rms = sqrt(mean_squared_error(yhat, test_y))\n",
        "print(rms)"
      ],
      "execution_count": 69,
      "outputs": [
        {
          "output_type": "stream",
          "text": [
            "0.023900331771215304\n"
          ],
          "name": "stdout"
        }
      ]
    }
  ]
}